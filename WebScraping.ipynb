{
  "nbformat": 4,
  "nbformat_minor": 0,
  "metadata": {
    "colab": {
      "name": "WebScraping.ipynb",
      "provenance": [],
      "collapsed_sections": []
    },
    "kernelspec": {
      "name": "python3",
      "display_name": "Python 3"
    },
    "language_info": {
      "name": "python"
    }
  },
  "cells": [
    {
      "cell_type": "code",
      "metadata": {
        "id": "bPQ6P_8SsMrP"
      },
      "source": [
        "import requests\n",
        "from bs4 import BeautifulSoup\n",
        "import pandas as pd"
      ],
      "execution_count": 1,
      "outputs": []
    },
    {
      "cell_type": "code",
      "metadata": {
        "id": "tGmMfdOLHT-U"
      },
      "source": [
        "Title=[]  #List to store title of most popular TV shows\n",
        "Year=[]   #List to store releasing year of each TV show\n",
        "Rating=[] #List to store ratings of each TV show\n",
        "\n",
        "url = \"https://www.imdb.com/chart/tvmeter/?ref_=nv_tvv_mptv\"\n",
        "content = requests.get(url).content\n",
        "\n",
        "soup = BeautifulSoup(content, \"html.parser\") \n",
        "\n",
        "for i in soup.find(\"tbody\", {\"class\":\"lister-list\"}).find_all(\"tr\"):\n",
        "    h = i.find(\"td\",{\"class\":\"titleColumn\"})\n",
        "    title = h.find(\"a\", href=True)\n",
        "    year = i.find(\"span\",{\"class\":\"secondaryInfo\"})\n",
        "    rating = i.find(\"td\",{\"class\":\"ratingColumn imdbRating\"})\n",
        "    \n",
        "    Title.append(title.text) \n",
        "    Year.append(year.text)\n",
        "    Rating.append(rating.text.strip(\"\\n\"))"
      ],
      "execution_count": 8,
      "outputs": []
    },
    {
      "cell_type": "code",
      "metadata": {
        "id": "3r_ySPG3LewB"
      },
      "source": [
        "df=pd.DataFrame({'Most Popular TV Shows' : Title,'Year' : Year,'Rating' : Rating})\n",
        "df.to_csv('IMDb.csv', index=False, encoding='utf-8')\n",
        "data = pd.read_csv('IMDb.csv')"
      ],
      "execution_count": 9,
      "outputs": []
    },
    {
      "cell_type": "code",
      "metadata": {
        "colab": {
          "base_uri": "https://localhost:8080/",
          "height": 206
        },
        "id": "w08oALMyYCWa",
        "outputId": "307f625b-c4c5-4492-c759-68a8496b7209"
      },
      "source": [
        "data.head()"
      ],
      "execution_count": 10,
      "outputs": [
        {
          "output_type": "execute_result",
          "data": {
            "text/html": [
              "<div>\n",
              "<style scoped>\n",
              "    .dataframe tbody tr th:only-of-type {\n",
              "        vertical-align: middle;\n",
              "    }\n",
              "\n",
              "    .dataframe tbody tr th {\n",
              "        vertical-align: top;\n",
              "    }\n",
              "\n",
              "    .dataframe thead th {\n",
              "        text-align: right;\n",
              "    }\n",
              "</style>\n",
              "<table border=\"1\" class=\"dataframe\">\n",
              "  <thead>\n",
              "    <tr style=\"text-align: right;\">\n",
              "      <th></th>\n",
              "      <th>Most Popular TV Shows</th>\n",
              "      <th>Year</th>\n",
              "      <th>Rating</th>\n",
              "    </tr>\n",
              "  </thead>\n",
              "  <tbody>\n",
              "    <tr>\n",
              "      <th>0</th>\n",
              "      <td>Loki</td>\n",
              "      <td>(2021)</td>\n",
              "      <td>8.5</td>\n",
              "    </tr>\n",
              "    <tr>\n",
              "      <th>1</th>\n",
              "      <td>Never Have I Ever</td>\n",
              "      <td>(2020)</td>\n",
              "      <td>7.9</td>\n",
              "    </tr>\n",
              "    <tr>\n",
              "      <th>2</th>\n",
              "      <td>Rick and Morty</td>\n",
              "      <td>(2013)</td>\n",
              "      <td>9.2</td>\n",
              "    </tr>\n",
              "    <tr>\n",
              "      <th>3</th>\n",
              "      <td>American Horror Stories</td>\n",
              "      <td>(2021)</td>\n",
              "      <td>6.5</td>\n",
              "    </tr>\n",
              "    <tr>\n",
              "      <th>4</th>\n",
              "      <td>Ted Lasso</td>\n",
              "      <td>(2020)</td>\n",
              "      <td>8.7</td>\n",
              "    </tr>\n",
              "  </tbody>\n",
              "</table>\n",
              "</div>"
            ],
            "text/plain": [
              "     Most Popular TV Shows    Year  Rating\n",
              "0                     Loki  (2021)     8.5\n",
              "1        Never Have I Ever  (2020)     7.9\n",
              "2           Rick and Morty  (2013)     9.2\n",
              "3  American Horror Stories  (2021)     6.5\n",
              "4                Ted Lasso  (2020)     8.7"
            ]
          },
          "metadata": {
            "tags": []
          },
          "execution_count": 10
        }
      ]
    }
  ]
}