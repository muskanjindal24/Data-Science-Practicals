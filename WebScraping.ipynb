{
  "nbformat": 4,
  "nbformat_minor": 0,
  "metadata": {
    "colab": {
      "name": "WebScraping.ipynb",
      "provenance": [],
      "collapsed_sections": []
    },
    "kernelspec": {
      "name": "python3",
      "display_name": "Python 3"
    },
    "language_info": {
      "name": "python"
    }
  },
  "cells": [
    {
      "cell_type": "code",
      "metadata": {
        "id": "bPQ6P_8SsMrP"
      },
      "source": [
        "import requests\n",
        "from bs4 import BeautifulSoup\n",
        "import pandas as pd"
      ],
      "execution_count": 1,
      "outputs": []
    },
    {
      "cell_type": "code",
      "metadata": {
        "id": "tGmMfdOLHT-U"
      },
      "source": [
        "Title=[]  #List to store title of most popular TV shows\n",
        "Year=[]   #List to store releasing year of each TV show\n",
        "Rating=[] #List to store ratings of each TV show\n",
        "\n",
        "url = \"https://www.imdb.com/chart/tvmeter/?ref_=nv_tvv_mptv\"\n",
        "data = requests.get(url).content\n",
        "\n",
        "soup = BeautifulSoup(data, \"html.parser\") \n",
        "\n",
        "for i in soup.find(\"tbody\", {\"class\":\"lister-list\"}).find_all(\"tr\"):\n",
        "    h = i.find(\"td\",{\"class\":\"titleColumn\"})\n",
        "    title = h.find(\"a\", href=True)\n",
        "    year = i.find(\"span\",{\"class\":\"secondaryInfo\"})\n",
        "    rating = i.find(\"td\",{\"class\":\"ratingColumn imdbRating\"})\n",
        "    \n",
        "    Title.append(title.text) \n",
        "    Year.append(year.text)\n",
        "    Rating.append(rating.text)"
      ],
      "execution_count": 2,
      "outputs": []
    },
    {
      "cell_type": "code",
      "metadata": {
        "id": "3r_ySPG3LewB"
      },
      "source": [
        "df=pd.DataFrame({'Most Popular TV Shows' : Title,'Year' : Year,'Rating' : Rating})\n",
        "df.to_csv('IMDb.csv', index=False, encoding='utf-8')"
      ],
      "execution_count": 4,
      "outputs": []
    }
  ]
}